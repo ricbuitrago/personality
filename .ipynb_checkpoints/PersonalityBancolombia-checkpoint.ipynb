{
 "cells": [
  {
   "cell_type": "markdown",
   "metadata": {},
   "source": [
    "Sieve"
   ]
  },
  {
   "cell_type": "code",
   "execution_count": 1,
   "metadata": {},
   "outputs": [],
   "source": [
    "SpanishText='{\"Texto\":\"Soy Ricardo Buitrago, un persona apasionada por la tecnología, el emprendimiento, el deporte y los perros. Creo en el balance que debe existir entre la vida profesional y la vida personal, además en que esta vida es la única oportunidad que hay para ser la mejor versión de uno mismo, por lo cual procuro estar en formación permanente para poder aportar mejor a nivel profesional y en realizar actividades que mejoren mis habilidades sociales y emocionales. Soy Ingeniero electrónico, con experiencia de mas de 6 años en lineas afines a la robótica, ingeniería cloud, internet de las cosas y analítica. He tenido la oportunidad de trabajar en empresas como Parque Explora, Ruta N, Centro de Ciencia y Tecnología de Antioquia, AOS y ahora Bancolombia. Considero que cuento con las habilidades necesarias para liderar equipos de trabajo orientados al desarrollo de soluciones innovadoras basadas en tecnología, usualmente utilizo herramientas de gestión de proyectos para ejecutar estos procesos de forma ordenada, además de utilizar artefactos de metodologías ágiles de desarrollo e innovación para generar inercia de trabajo y una actitud propositiva y proactiva por parte del equipo. Soy Ingeniero electrónico de la universidad de Antioquia, graduado con énfasis y sistemas digitales y control. Recientemente recibí una certificación internacional como Big Data Scientist por Arcitura. Estudio Maestría en analítica en la Universidad Nacional de Colombia, en donde trabajo en una tesis de grado orientada al uso de agentes virtuales inteligentes en procesos de selección de talento humano basado en el uso de modelos de personalidad e inteligencia artificial Me gusta escuchar música, sobre todo géneros musicales como Rock y electrónica, aunque en general escucho de todo y tengo una gran admiración por la música colombiana en todas sus variantes. Dedico mis ratos libres a la lectura y el deporte, encontrando en este último laoportunidad de canalizar el estrés que puede llegar a generar el trabajo. Amo los perros, disfruto jugar con ellos y salir a dar un paseo. Me encanta compartir con personas, por lo que es habitual salir a encuentros con grupos de amigos a diferentes lugares como, restaurantes, cines, bares, entre otros. \"}'"
   ]
  },
  {
   "cell_type": "code",
   "execution_count": 5,
   "metadata": {},
   "outputs": [
    {
     "name": "stdout",
     "output_type": "stream",
     "text": [
      "Collecting ibm-watson\n",
      "Collecting websocket-client==0.48.0 (from ibm-watson)\n",
      "  Using cached https://files.pythonhosted.org/packages/8a/a1/72ef9aa26cfe1a75cee09fc1957e4723add9de098c15719416a1ee89386b/websocket_client-0.48.0-py2.py3-none-any.whl\n",
      "Collecting ibm-cloud-sdk-core==1.0.0 (from ibm-watson)\n",
      "Collecting python-dateutil>=2.5.3 (from ibm-watson)\n",
      "  Using cached https://files.pythonhosted.org/packages/41/17/c62faccbfbd163c7f57f3844689e3a78bae1f403648a6afb1d0866d87fbb/python_dateutil-2.8.0-py2.py3-none-any.whl\n",
      "Requirement already satisfied, skipping upgrade: requests<3.0,>=2.0 in /usr/lib/python3/dist-packages (from ibm-watson) (2.9.1)\n",
      "Requirement already satisfied, skipping upgrade: six in /usr/lib/python3/dist-packages (from websocket-client==0.48.0->ibm-watson) (1.10.0)\n",
      "Collecting PyJWT>=1.7.1 (from ibm-cloud-sdk-core==1.0.0->ibm-watson)\n",
      "  Using cached https://files.pythonhosted.org/packages/87/8b/6a9f14b5f781697e51259d81657e6048fd31a113229cf346880bb7545565/PyJWT-1.7.1-py2.py3-none-any.whl\n",
      "Installing collected packages: websocket-client, PyJWT, python-dateutil, ibm-cloud-sdk-core, ibm-watson\n",
      "Successfully installed PyJWT-1.7.1 ibm-cloud-sdk-core-1.0.0 ibm-watson-4.0.1 python-dateutil-2.8.0 websocket-client-0.48.0\n"
     ]
    }
   ],
   "source": [
    "!pip3 install --upgrade ibm-watson  --user\n",
    "#pip3 install --upgrade ibm-watson  --user && pip3 freeze  > requirements.txt"
   ]
  },
  {
   "cell_type": "code",
   "execution_count": 8,
   "metadata": {},
   "outputs": [
    {
     "name": "stdout",
     "output_type": "stream",
     "text": [
      "Writing personality.py\n"
     ]
    }
   ],
   "source": [
    "%%writefile personality.py\n",
    "import pandas as pd\n",
    "from ibm_watson import PersonalityInsightsV3\n",
    "from ibm_cloud_sdk_core.authenticators import IAMAuthenticator\n",
    "\n",
    "authenticator = IAMAuthenticator('yc0-_NsnTAezJFQGCw-RyvOX2yKTb6-CFAFbLB0o2VQN')\n",
    "personality_insights = PersonalityInsightsV3(\n",
    "    version='2019-25-07',\n",
    "    authenticator=authenticator\n",
    ")\n",
    "personality_insights.set_service_url('https://gateway.watsonplatform.net/personality-insights/api')\n",
    "\n",
    "def PersonalityProduct(personality_text):\n",
    "\n",
    "    profile = personality_insights.profile(\n",
    "            personality_text,\n",
    "            'application/json',\n",
    "            content_type='text/plain',\n",
    "            consumption_preferences=False,\n",
    "            content_language='es',\n",
    "            accept_language='eS',\n",
    "            raw_scores=False,\n",
    "            csv_headers=True,\n",
    "            ).get_result()\n",
    "    Personality=profile['personality']\n",
    "    GlobalResult=pd.DataFrame.from_dict(Personality)\n",
    "    GlobalResult=GlobalResult.drop(['category','significant','trait_id','children'],axis=1)\n",
    "    Resultado = []\n",
    "    for p in range(0, 5):\n",
    "        Data=pd.DataFrame.from_dict(Personality[p])\n",
    "        Data[['trait_id2', 'child_name','category2','percentile2','significant2']] = Data.children.apply(pd.Series)\n",
    "        Data= Data.drop(['trait_id','category','significant','children','trait_id2','category2','significant2'],axis=1)\n",
    "        Resultado.append(Data)\n",
    "\n",
    "    Resultado = pd.concat(Resultado)\n",
    "    TextoFinal=Resultado.to_json(orient='records')   \n",
    "    return TextoFinal"
   ]
  },
  {
   "cell_type": "code",
   "execution_count": 7,
   "metadata": {},
   "outputs": [
    {
     "data": {
      "text/plain": [
       "'[{\"name\":\"Apertura a experiencias\",\"percentile\":0.9959654767,\"child_name\":\"Audacia\",\"percentile2\":true},{\"name\":\"Apertura a experiencias\",\"percentile\":0.9959654767,\"child_name\":\"Intereses art\\\\u00edsticos\",\"percentile2\":true},{\"name\":\"Apertura a experiencias\",\"percentile\":0.9959654767,\"child_name\":\"Emocionalidad\",\"percentile2\":true},{\"name\":\"Apertura a experiencias\",\"percentile\":0.9959654767,\"child_name\":\"Imaginaci\\\\u00f3n\",\"percentile2\":true},{\"name\":\"Apertura a experiencias\",\"percentile\":0.9959654767,\"child_name\":\"Intelecto\",\"percentile2\":true},{\"name\":\"Apertura a experiencias\",\"percentile\":0.9959654767,\"child_name\":\"Desaf\\\\u00edo a la autoridad\",\"percentile2\":true},{\"name\":\"Responsabilidad\",\"percentile\":0.8609296389,\"child_name\":\"Necesidad de \\\\u00e9xito\",\"percentile2\":true},{\"name\":\"Responsabilidad\",\"percentile\":0.8609296389,\"child_name\":\"Cautela\",\"percentile2\":true},{\"name\":\"Responsabilidad\",\"percentile\":0.8609296389,\"child_name\":\"Obediencia\",\"percentile2\":true},{\"name\":\"Responsabilidad\",\"percentile\":0.8609296389,\"child_name\":\"Disciplina\",\"percentile2\":true},{\"name\":\"Responsabilidad\",\"percentile\":0.8609296389,\"child_name\":\"Autodisciplina\",\"percentile2\":true},{\"name\":\"Responsabilidad\",\"percentile\":0.8609296389,\"child_name\":\"Autoeficacia\",\"percentile2\":true},{\"name\":\"Extroversi\\\\u00f3n\",\"percentile\":0.5748244077,\"child_name\":\"Nivel de actividad\",\"percentile2\":true},{\"name\":\"Extroversi\\\\u00f3n\",\"percentile\":0.5748244077,\"child_name\":\"Seguridad en uno mismo\",\"percentile2\":true},{\"name\":\"Extroversi\\\\u00f3n\",\"percentile\":0.5748244077,\"child_name\":\"Alegr\\\\u00eda\",\"percentile2\":true},{\"name\":\"Extroversi\\\\u00f3n\",\"percentile\":0.5748244077,\"child_name\":\"B\\\\u00fasqueda de emociones\",\"percentile2\":true},{\"name\":\"Extroversi\\\\u00f3n\",\"percentile\":0.5748244077,\"child_name\":\"Simpat\\\\u00eda\",\"percentile2\":true},{\"name\":\"Extroversi\\\\u00f3n\",\"percentile\":0.5748244077,\"child_name\":\"Sociabilidad\",\"percentile2\":true},{\"name\":\"Amabilidad\",\"percentile\":0.682477826,\"child_name\":\"Altruismo\",\"percentile2\":true},{\"name\":\"Amabilidad\",\"percentile\":0.682477826,\"child_name\":\"Cooperaci\\\\u00f3n\",\"percentile2\":true},{\"name\":\"Amabilidad\",\"percentile\":0.682477826,\"child_name\":\"Modestia\",\"percentile2\":true},{\"name\":\"Amabilidad\",\"percentile\":0.682477826,\"child_name\":\"Intransigencia\",\"percentile2\":true},{\"name\":\"Amabilidad\",\"percentile\":0.682477826,\"child_name\":\"Compasi\\\\u00f3n\",\"percentile2\":true},{\"name\":\"Amabilidad\",\"percentile\":0.682477826,\"child_name\":\"Confianza\",\"percentile2\":true},{\"name\":\"Rango emocional\",\"percentile\":0.7577789771,\"child_name\":\"Vehemencia\",\"percentile2\":true},{\"name\":\"Rango emocional\",\"percentile\":0.7577789771,\"child_name\":\"Tendencia a la preocupaci\\\\u00f3n\",\"percentile2\":true},{\"name\":\"Rango emocional\",\"percentile\":0.7577789771,\"child_name\":\"Melancol\\\\u00eda\",\"percentile2\":true},{\"name\":\"Rango emocional\",\"percentile\":0.7577789771,\"child_name\":\"Desmesura\",\"percentile2\":true},{\"name\":\"Rango emocional\",\"percentile\":0.7577789771,\"child_name\":\"Timidez\",\"percentile2\":true},{\"name\":\"Rango emocional\",\"percentile\":0.7577789771,\"child_name\":\"Susceptibilidad a la tensi\\\\u00f3n\",\"percentile2\":true}]'"
      ]
     },
     "execution_count": 7,
     "metadata": {},
     "output_type": "execute_result"
    }
   ],
   "source": [
    "PersonalityProduct(SpanishText)"
   ]
  },
  {
   "cell_type": "code",
   "execution_count": null,
   "metadata": {},
   "outputs": [],
   "source": [
    "%%writefile prime_sieve.py\n",
    "def Eratosthenes(upper_bound):\n",
    "    prime = [True] * upper_bound     \n",
    "    for p in range(3, upper_bound, 2):\n",
    "        if p > (upper_bound**.5):\n",
    "            break\n",
    "        if prime[p]==True:\n",
    "            for i in range(p * p, upper_bound, 2 * p):\n",
    "                prime[i] = False\n",
    "        return [2] + [p for p in range(3, upper_bound, 2) if    \n",
    "            prime[p]]"
   ]
  },
  {
   "cell_type": "markdown",
   "metadata": {},
   "source": [
    "Flask"
   ]
  },
  {
   "cell_type": "code",
   "execution_count": 23,
   "metadata": {},
   "outputs": [
    {
     "name": "stdout",
     "output_type": "stream",
     "text": [
      "Overwriting my_flask_app.py\n"
     ]
    }
   ],
   "source": [
    "%%writefile my_flask_app.py \n",
    "from flask import Flask, Response, jsonify \n",
    "from flask_restplus import Api, Resource, fields, reqparse \n",
    "from flask_cors import CORS, cross_origin \n",
    "from ibm_watson import PersonalityInsightsV3\n",
    "from ibm_cloud_sdk_core.authenticators import IAMAuthenticator\n",
    "import os \n",
    "# the app \n",
    "app = Flask(__name__) \n",
    "CORS(app) \n",
    "api = Api(app, version='1.0', title='APIs for Personality', validate=False) \n",
    "ns = api.namespace('personality', 'Returns a list of all primes below a given upper bound') \n",
    "# load the algo \n",
    "from personality import PersonalityProduct as algo \n",
    "''' We import our function `PersonalityProduct` from the file personality.py. You create all the classes and functions that you want in that file, and import them into the app. ''' \n",
    "# model the input data \n",
    "model_input = api.model('Enter the text:', { \"PERSONALITY_TEXT\": fields.String}) \n",
    "# the input data type here is Integer. You can change this to whatever works for your app. \n",
    "# On Bluemix, get the port number from the environment variable PORT # When running this app on the local machine, default to 8080 \n",
    "port = int(os.getenv('PORT', 8080)) \n",
    "# The ENDPOINT \n",
    "@ns.route('/personality') \n",
    "# the endpoint \n",
    "class SIEVE(Resource): \n",
    "    @api.response(200, \"Success\", model_input)   \n",
    "    @api.expect(model_input)\n",
    "    def post(self):\n",
    "        parser = reqparse.RequestParser()\n",
    "        parser.add_argument('PERSONALITY_TEXT', type=str)\n",
    "        args = parser.parse_args()\n",
    "        inp = str(args[\"PERSONALITY_TEXT\"]) \n",
    "        result = algo(inp) \n",
    "        return jsonify({\"texto\": result}) \n",
    "    \n",
    "if __name__ == '__main__':\n",
    "    port = int(os.getenv('PORT', 8080))\n",
    "    app.run(host='0.0.0.0', port=port, debug=True)"
   ]
  },
  {
   "cell_type": "code",
   "execution_count": 10,
   "metadata": {},
   "outputs": [
    {
     "name": "stdout",
     "output_type": "stream",
     "text": [
      "Overwriting manifest.yml\n"
     ]
    }
   ],
   "source": [
    "%%writefile manifest.yml\n",
    " --- applications:\n",
    " - name: PersonalityAppBancolombia\n",
    " - random-route: true\n",
    " - memory: 256m"
   ]
  },
  {
   "cell_type": "code",
   "execution_count": 11,
   "metadata": {},
   "outputs": [
    {
     "name": "stdout",
     "output_type": "stream",
     "text": [
      "Overwriting Procfile\n"
     ]
    }
   ],
   "source": [
    "%%writefile Procfile \n",
    "web: python my_flask_app.py"
   ]
  },
  {
   "cell_type": "code",
   "execution_count": 12,
   "metadata": {},
   "outputs": [
    {
     "name": "stdout",
     "output_type": "stream",
     "text": [
      "Overwriting README.md\n"
     ]
    }
   ],
   "source": [
    "%%writefile README.md \n",
    "\"Getting Started with Python Algos on Bluemix\""
   ]
  },
  {
   "cell_type": "code",
   "execution_count": 20,
   "metadata": {},
   "outputs": [
    {
     "name": "stdout",
     "output_type": "stream",
     "text": [
      "Overwriting requirements.txt\n"
     ]
    }
   ],
   "source": [
    "%%writefile requirements.txt \n",
    "Flask==0.11.1 \n",
    "cloudant==2.4.0 \n",
    "flasgger==0.6.4 \n",
    "Flask-Cors==3.0.2 \n",
    "Flask-RESTful==0.3.6 \n",
    "flask-restplus==0.9.2 \n",
    "gevent==1.2.1\n",
    "ibm-watson==4.0.0\n",
    "numpy==1.11.2\n",
    "scipy==0.18.1\n",
    "pandas==0.19.0"
   ]
  },
  {
   "cell_type": "code",
   "execution_count": 14,
   "metadata": {},
   "outputs": [
    {
     "name": "stdout",
     "output_type": "stream",
     "text": [
      "Overwriting setup.py\n"
     ]
    }
   ],
   "source": [
    "%%writefile setup.py \n",
    "\"\"\" Hello World app for deploying Python functions as APIs on Bluemix \"\"\" \n",
    "# Always prefer setuptools over distutils \n",
    "from setuptools import setup, find_packages \n",
    "from codecs import open \n",
    "from os import path \n",
    "here = path.abspath(path.dirname(__file__)) \n",
    "with open(path.join(here, 'README.md'), encoding='utf-8') as f:\n",
    "    long_description = f.read() \n",
    "setup( \n",
    "name='personality_test', \n",
    "version='1.0.0', \n",
    "description='Running Python apps on Bluemix', long_description=long_description, \n",
    "url='https://github.com/IBM-Bluemix/python-hello-world-flask', license='Apache-2.0' \n",
    ")\n"
   ]
  },
  {
   "cell_type": "code",
   "execution_count": 15,
   "metadata": {},
   "outputs": [
    {
     "name": "stdout",
     "output_type": "stream",
     "text": [
      "Overwriting LICENSE\n"
     ]
    }
   ],
   "source": [
    "%%writefile LICENSE \n",
    "\"\"\"Apache License Version 2.0, January 2004 http://www.apache.org/licenses/ TERMS AND CONDITIONS FOR USE, REPRODUCTION, AND DISTRIBUTION ...\"\"\""
   ]
  },
  {
   "cell_type": "code",
   "execution_count": null,
   "metadata": {},
   "outputs": [],
   "source": []
  }
 ],
 "metadata": {
  "kernelspec": {
   "display_name": "Python 3",
   "language": "python",
   "name": "python3"
  },
  "language_info": {
   "codemirror_mode": {
    "name": "ipython",
    "version": 3
   },
   "file_extension": ".py",
   "mimetype": "text/x-python",
   "name": "python",
   "nbconvert_exporter": "python",
   "pygments_lexer": "ipython3",
   "version": "3.5.2"
  }
 },
 "nbformat": 4,
 "nbformat_minor": 2
}
