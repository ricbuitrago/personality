{
 "cells": [
  {
   "cell_type": "markdown",
   "metadata": {},
   "source": [
    "Sieve"
   ]
  },
  {
   "cell_type": "code",
   "execution_count": 24,
   "metadata": {},
   "outputs": [
    {
     "name": "stdout",
     "output_type": "stream",
     "text": [
      "Overwriting prime_sieve.py\n"
     ]
    }
   ],
   "source": [
    "%%writefile prime_sieve.py\n",
    "def Eratosthenes(upper_bound):\n",
    "    prime = [True] * upper_bound     \n",
    "    for p in range(3, upper_bound, 2):\n",
    "        if p > (upper_bound**.5):\n",
    "            break\n",
    "        if prime[p]==True:\n",
    "            for i in range(p * p, upper_bound, 2 * p):\n",
    "                prime[i] = False\n",
    "        return [2] + [p for p in range(3, upper_bound, 2) if    \n",
    "            prime[p]]"
   ]
  },
  {
   "cell_type": "markdown",
   "metadata": {},
   "source": [
    "Flask"
   ]
  },
  {
   "cell_type": "code",
   "execution_count": 25,
   "metadata": {},
   "outputs": [
    {
     "name": "stdout",
     "output_type": "stream",
     "text": [
      "Overwriting my_flask_app.py\n"
     ]
    }
   ],
   "source": [
    "%%writefile my_flask_app.py \n",
    "from flask import Flask, Response, jsonify \n",
    "from flask_restplus import Api, Resource, fields, reqparse \n",
    "from flask_cors import CORS, cross_origin \n",
    "import os \n",
    "# the app \n",
    "app = Flask(__name__) \n",
    "CORS(app) \n",
    "api = Api(app, version='1.0', title='APIs for Python Functions', validate=False) \n",
    "ns = api.namespace('primality', 'Returns a list of all primes below a given upper bound') \n",
    "# load the algo \n",
    "from prime_sieve import Eratosthenes as algo \n",
    "''' We import our function `Erasosthenes` from the file prime_sieve.py. You create all the classes and functions that you want in that file, and import them into the app. ''' \n",
    "# model the input data \n",
    "model_input = api.model('Enter the upper bound:', { \"UPPER_BOUND\": fields.Integer(maximum=10e16)}) \n",
    "# the input data type here is Integer. You can change this to whatever works for your app. \n",
    "# On Bluemix, get the port number from the environment variable PORT # When running this app on the local machine, default to 8080 \n",
    "port = int(os.getenv('PORT', 8080)) \n",
    "# The ENDPOINT \n",
    "@ns.route('/sieve') \n",
    "# the endpoint \n",
    "class SIEVE(Resource): \n",
    "    @api.response(200, \"Success\", model_input)   \n",
    "    @api.expect(model_input)\n",
    "    def post(self):\n",
    "        parser = reqparse.RequestParser()\n",
    "        parser.add_argument('UPPER_BOUND', type=int)\n",
    "        args = parser.parse_args()\n",
    "        inp = int(args[\"UPPER_BOUND\"]) \n",
    "        result = algo(inp) \n",
    "        return jsonify({\"primes\": result}) \n",
    "    \n",
    "if __name__ == '__main__': app.run(host='0.0.0.0', port=port, debug=False) # deploy with debug=False\n",
    "\n"
   ]
  },
  {
   "cell_type": "code",
   "execution_count": 26,
   "metadata": {},
   "outputs": [
    {
     "name": "stdout",
     "output_type": "stream",
     "text": [
      "Overwriting manifest.yml\n"
     ]
    }
   ],
   "source": [
    "%%writefile manifest.yml\n",
    " --- applications:\n",
    " - name: PersonalityAppBancolombia\n",
    " - random-route: true\n",
    " - memory: 256m"
   ]
  },
  {
   "cell_type": "code",
   "execution_count": 27,
   "metadata": {},
   "outputs": [
    {
     "name": "stdout",
     "output_type": "stream",
     "text": [
      "Overwriting Procfile\n"
     ]
    }
   ],
   "source": [
    "%%writefile Procfile \n",
    "web: python my_flask_app.py"
   ]
  },
  {
   "cell_type": "code",
   "execution_count": 28,
   "metadata": {},
   "outputs": [
    {
     "name": "stdout",
     "output_type": "stream",
     "text": [
      "Overwriting README.md\n"
     ]
    }
   ],
   "source": [
    "%%writefile README.md \n",
    "\"Getting Started with Python Algos on Bluemix\""
   ]
  },
  {
   "cell_type": "code",
   "execution_count": 29,
   "metadata": {},
   "outputs": [
    {
     "name": "stdout",
     "output_type": "stream",
     "text": [
      "Overwriting requirements.txt\n"
     ]
    }
   ],
   "source": [
    "%%writefile requirements.txt \n",
    "Flask==0.11.1 \n",
    "cloudant==2.4.0 \n",
    "flasgger==0.6.4 \n",
    "Flask-Cors==3.0.2 \n",
    "Flask-RESTful==0.3.6 \n",
    "flask-restplus==0.9.2 \n",
    "gevent==1.2.1"
   ]
  },
  {
   "cell_type": "code",
   "execution_count": 30,
   "metadata": {},
   "outputs": [
    {
     "name": "stdout",
     "output_type": "stream",
     "text": [
      "Overwriting setup.py\n"
     ]
    }
   ],
   "source": [
    "%%writefile setup.py \n",
    "\"\"\" Hello World app for deploying Python functions as APIs on Bluemix \"\"\" \n",
    "# Always prefer setuptools over distutils \n",
    "from setuptools import setup, find_packages \n",
    "from codecs import open \n",
    "from os import path \n",
    "here = path.abspath(path.dirname(__file__)) \n",
    "with open(path.join(here, 'README.md'), encoding='utf-8') as f:\n",
    "    long_description = f.read() \n",
    "setup( \n",
    "name='primality_test', \n",
    "version='1.0.0', \n",
    "description='Running Python apps on Bluemix', long_description=long_description, \n",
    "url='https://github.com/IBM-Bluemix/python-hello-world-flask', license='Apache-2.0' \n",
    ")\n"
   ]
  },
  {
   "cell_type": "code",
   "execution_count": 31,
   "metadata": {},
   "outputs": [
    {
     "name": "stdout",
     "output_type": "stream",
     "text": [
      "Overwriting LICENSE\n"
     ]
    }
   ],
   "source": [
    "%%writefile LICENSE \n",
    "\"\"\"Apache License Version 2.0, January 2004 http://www.apache.org/licenses/ TERMS AND CONDITIONS FOR USE, REPRODUCTION, AND DISTRIBUTION ...\"\"\""
   ]
  },
  {
   "cell_type": "code",
   "execution_count": null,
   "metadata": {},
   "outputs": [],
   "source": []
  }
 ],
 "metadata": {
  "kernelspec": {
   "display_name": "Python 2",
   "language": "python",
   "name": "python2"
  },
  "language_info": {
   "codemirror_mode": {
    "name": "ipython",
    "version": 2
   },
   "file_extension": ".py",
   "mimetype": "text/x-python",
   "name": "python",
   "nbconvert_exporter": "python",
   "pygments_lexer": "ipython2",
   "version": "2.7.12"
  }
 },
 "nbformat": 4,
 "nbformat_minor": 2
}
